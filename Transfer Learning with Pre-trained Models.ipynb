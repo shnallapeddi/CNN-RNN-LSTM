{
 "cells": [
  {
   "cell_type": "markdown",
   "metadata": {
    "id": "QFwbbmRcb284"
   },
   "source": [
    "# Transfer Learning with Pre-trained Models\n",
    "Use in-build models with pre-trained weights and apply them to the Food-11 dataset."
   ]
  },
  {
   "cell_type": "code",
   "execution_count": 1,
   "metadata": {
    "execution": {
     "iopub.execute_input": "2025-03-07T15:04:49.244239Z",
     "iopub.status.busy": "2025-03-07T15:04:49.243952Z",
     "iopub.status.idle": "2025-03-07T15:04:53.072695Z",
     "shell.execute_reply": "2025-03-07T15:04:53.072013Z",
     "shell.execute_reply.started": "2025-03-07T15:04:49.244215Z"
    },
    "id": "fNHehnxpnQ7s"
   },
   "outputs": [],
   "source": [
    "from torchvision import transforms\n",
    "\n",
    "train_transform = transforms.Compose([\n",
    "    transforms.Resize((224, 224)),\n",
    "    transforms.RandomHorizontalFlip(),\n",
    "    transforms.RandomRotation(10),\n",
    "    transforms.ToTensor(),\n",
    "    transforms.Normalize(mean=[0.485, 0.456, 0.406], std=[0.229, 0.224, 0.225]),\n",
    "])\n",
    "\n",
    "val_transform = transforms.Compose([\n",
    "    transforms.Resize((224, 224)),\n",
    "    transforms.ToTensor(),\n",
    "    transforms.Normalize(mean=[0.485, 0.456, 0.406], std=[0.229, 0.224, 0.225]),\n",
    "])\n",
    "\n",
    "test_transform = transforms.Compose([\n",
    "    transforms.Resize((224, 224)),\n",
    "    transforms.ToTensor(),\n",
    "    transforms.Normalize(mean=[0.485, 0.456, 0.406], std=[0.229, 0.224, 0.225]),\n",
    "])\n"
   ]
  },
  {
   "cell_type": "code",
   "execution_count": 2,
   "metadata": {
    "execution": {
     "iopub.execute_input": "2025-03-07T15:04:57.206649Z",
     "iopub.status.busy": "2025-03-07T15:04:57.206107Z",
     "iopub.status.idle": "2025-03-07T15:05:35.853040Z",
     "shell.execute_reply": "2025-03-07T15:05:35.852428Z",
     "shell.execute_reply.started": "2025-03-07T15:04:57.206614Z"
    },
    "id": "4gsvwRNBnSpS"
   },
   "outputs": [],
   "source": [
    "from torchvision import datasets\n",
    "\n",
    "train_path = '/kaggle/input/food11-image-dataset/training'\n",
    "val_path = '/kaggle/input/food11-image-dataset/validation'\n",
    "test_path = '/kaggle/input/food11-image-dataset/evaluation'\n",
    "\n",
    "train_dataset = datasets.ImageFolder(root=train_path, transform=train_transform)\n",
    "val_dataset = datasets.ImageFolder(root=val_path, transform=val_transform)\n",
    "test_dataset = datasets.ImageFolder(root=test_path, transform=test_transform)\n"
   ]
  },
  {
   "cell_type": "code",
   "execution_count": 3,
   "metadata": {
    "colab": {
     "base_uri": "https://localhost:8080/"
    },
    "execution": {
     "iopub.execute_input": "2025-03-07T15:07:12.827616Z",
     "iopub.status.busy": "2025-03-07T15:07:12.827310Z",
     "iopub.status.idle": "2025-03-07T15:07:13.274752Z",
     "shell.execute_reply": "2025-03-07T15:07:13.273857Z",
     "shell.execute_reply.started": "2025-03-07T15:07:12.827590Z"
    },
    "id": "CPovJLIcnUt4",
    "outputId": "a5bb30d5-3084-47f1-cf27-0490e2970d13"
   },
   "outputs": [
    {
     "name": "stdout",
     "output_type": "stream",
     "text": [
      "Batch image size: torch.Size([32, 3, 224, 224])\n",
      "Batch labels: tensor([ 4,  0,  1, 10,  6,  4,  0,  5,  0,  0,  0,  3,  2,  8,  7,  8,  0,  5,\n",
      "         9, 10,  2,  2,  2,  4,  9,  9,  4,  5,  5,  5,  2,  6])\n"
     ]
    }
   ],
   "source": [
    "from torch.utils.data import DataLoader\n",
    "\n",
    "train_loader = DataLoader(train_dataset, batch_size=32, shuffle=True)\n",
    "val_loader = DataLoader(val_dataset, batch_size=32, shuffle=False)\n",
    "test_loader = DataLoader(test_dataset, batch_size=32, shuffle=False)\n",
    "\n",
    "data_iter = iter(train_loader)\n",
    "images, labels = next(data_iter)\n",
    "\n",
    "print(\"Batch image size:\", images.size())  \n",
    "print(\"Batch labels:\", labels) \n"
   ]
  },
  {
   "cell_type": "markdown",
   "metadata": {
    "id": "Lgb7AF5Yb28_"
   },
   "source": [
    "## Step 1: Select at least THREE different pre-trained models\n",
    "Selected at least THREE different pre-trained models, e.g. ShuffleNet, Inception V3, and MobileNet V3. Check PyTorch documentation for more details. Justify your choice of models, considering their architectural strengths and suitability for the task."
   ]
  },
  {
   "cell_type": "markdown",
   "metadata": {
    "id": "osvwCII7b29G"
   },
   "source": [
    "**Models choosen**\n",
    "----\n",
    "\n",
    "\n",
    "\n",
    "**1. ShuffleNet**\n",
    "\n",
    "\n",
    "###i. Efficiency: ShuffleNet was developed for efficiency. It implements group convolutions and channel shuffle operations that reduce computation while keeping accuracy relatively high.\n",
    "\n",
    "\n",
    "\n",
    "###ii. Low Latency: This characteristic does well on real-time applications or situations where minimum processing time is required. Good for applications involving mobile or embedded devices, it helps where you would want to deploy the model in such scenarios.\n",
    "\n",
    "\n",
    "\n",
    "###iii. Good for Image Classification: Even with its lightweight architecture, ShuffleNet performs very well concerning image classification tasks, including classification among many classes like Food-11\n",
    "\n",
    "**Reason why it is best for Food-11**\n",
    "###1. The dataset has a manageable number of categories, i.e. 11 food types, thus making it faster and efficiency classifier on the catering models given limited resources.\n",
    "###2. Use in applications where deployment is intended on a mobile device without much accuracy sacrifice..\n",
    "\n",
    "\n",
    "\n",
    "---\n",
    "\n",
    "\n",
    "\n",
    "**2. EfficientNet V2**\n",
    "\n",
    "###i. Squeeze and excitation blocks: This model uses squeeze and excitation block, which perfectly enhances the important feature representation by dynamically re-calibrating channel-wise feature responses. This helps in such cases when the object has been classified because it makes sure of the most relevant parts that make the images in the trained process focus on the most important attributes used for classification. This is specifically true within food classification applications due to textures and colors or fine details.\n",
    "\n",
    "###ii. High Accuracy: It uses Neural Architecture Search (NAS) to automagically surf model scaling and thus ensure the best possible depth-width-resolution trade-off for a particular dataset. It adapts its structure dynamically based on dataset requirements, leading to higher accuracy with fewer parameters.\n",
    "\n",
    "###iii. Fine tunes Well: This model is pre-trained extensively on data from large datasets such as ImageNet. As a result, it shows strong generalization ability toward food classification tasks. A structured feature extractor qualifies this model highly for transfer learning, in which less labeled data is needed for higher accuracy, making it extremely applicable for fine-tuning on specialized datasets like Food-11.\n",
    "\n",
    "**Reason why it is best for Food-11**\n",
    "###1.  Food recognition models generally result in real-time applications, like taking pictures of food for calorie tracking, stuff like menus in restaurants, and identifying food items. \n",
    "###2. This model is also very fast to classify images using light computing device.\n",
    "\n",
    "---\n",
    "\n",
    "\n",
    "\n",
    "**3. MobileNet V3**\n",
    "\n",
    "###i. Mobile Optimization: MobileNet V3 optimizes for mobile devices, which becomes a major advantage when model size and inference time become deciding factors.\n",
    "\n",
    "###ii. Efficient: MobileNet V3 applies depthwise separable convolutions to minimize parameters and computations. Therefore, compared to other networks, it is much lighter in weight without sacrificing much in accuracy.\n",
    "\n",
    "###iii. Good Tradeoff Between Accuracy and Speed: There is a tradeoff between an inference one can speed and one can accuracy, and MobileNet V3 is a good choice if both performance and efficiency are needed.\n",
    "\n",
    "**Reason why it is best for Food-11**\n",
    "###1. The diversity shown in Food-11 images allows MobileNet V3 design to generalize greatly on such types of datasets without increasing heavy computations\n",
    "###2. A great choice when you need to balance between accuracy and computational efficiency, especially for applications on mobile devices or systems with limited computational power"
   ]
  },
  {
   "cell_type": "markdown",
   "metadata": {
    "id": "JLVTtSf_b29H"
   },
   "source": [
    "## Step 2: For each chosen model"
   ]
  },
  {
   "cell_type": "markdown",
   "metadata": {
    "id": "hzLSYDdYb29H"
   },
   "source": [
    "### a. Load the pre-trained model and modify the classification head\n",
    "Load the pre-trained model and modify the classification head (the final fully connected layer) to match the number of classes in the Food-11 dataset."
   ]
  },
  {
   "cell_type": "markdown",
   "metadata": {},
   "source": [
    "**ShuffleNet**"
   ]
  },
  {
   "cell_type": "code",
   "execution_count": 8,
   "metadata": {
    "execution": {
     "iopub.execute_input": "2025-03-07T15:07:42.014621Z",
     "iopub.status.busy": "2025-03-07T15:07:42.014339Z",
     "iopub.status.idle": "2025-03-07T15:07:42.081507Z",
     "shell.execute_reply": "2025-03-07T15:07:42.080705Z",
     "shell.execute_reply.started": "2025-03-07T15:07:42.014600Z"
    },
    "id": "0lthyc2vb29I"
   },
   "outputs": [],
   "source": [
    "import torch\n",
    "import torch.nn as nn\n",
    "from torchvision import models\n",
    "\n",
    "shufflenet = models.shufflenet_v2_x1_0(weights=models.ShuffleNet_V2_X1_0_Weights.IMAGENET1K_V1)\n",
    "\n",
    "food_num_shuffle = shufflenet.fc.in_features\n",
    "shufflenet.fc = nn.Linear(food_num_shuffle, 11)  \n",
    "\n",
    "device = torch.device(\"cuda\" if torch.cuda.is_available() else \"cpu\")\n",
    "shufflenet = shufflenet.to(device)\n"
   ]
  },
  {
   "cell_type": "markdown",
   "metadata": {},
   "source": [
    "**EfficientNet V2**"
   ]
  },
  {
   "cell_type": "code",
   "execution_count": 6,
   "metadata": {
    "colab": {
     "base_uri": "https://localhost:8080/"
    },
    "execution": {
     "iopub.execute_input": "2025-03-07T15:07:33.735207Z",
     "iopub.status.busy": "2025-03-07T15:07:33.734907Z",
     "iopub.status.idle": "2025-03-07T15:07:35.404085Z",
     "shell.execute_reply": "2025-03-07T15:07:35.403318Z",
     "shell.execute_reply.started": "2025-03-07T15:07:33.735183Z"
    },
    "id": "BMDGobcnh7Rb",
    "outputId": "9df3f01a-e31e-4315-a963-0b0d94b5306f"
   },
   "outputs": [
    {
     "name": "stderr",
     "output_type": "stream",
     "text": [
      "Downloading: \"https://download.pytorch.org/models/efficientnet_v2_s-dd5fe13b.pth\" to /root/.cache/torch/hub/checkpoints/efficientnet_v2_s-dd5fe13b.pth\n",
      "100%|██████████| 82.7M/82.7M [00:01<00:00, 83.8MB/s]\n"
     ]
    }
   ],
   "source": [
    "import torch\n",
    "import torch.nn as nn\n",
    "import torchvision\n",
    "from torchvision import models\n",
    "\n",
    "efficientnet_v2 = models.efficientnet_v2_s(weights=models.EfficientNet_V2_S_Weights.IMAGENET1K_V1)\n",
    "\n",
    "food_num_eff = efficientnet_v2.classifier[1].in_features\n",
    "efficientnet_v2.classifier[1] = nn.Linear(food_num_eff, 11)  \n",
    "\n",
    "device = torch.device(\"cuda\" if torch.cuda.is_available() else \"cpu\")\n",
    "efficientnet_v2 = efficientnet_v2.to(device)\n"
   ]
  },
  {
   "cell_type": "markdown",
   "metadata": {},
   "source": [
    "**MobileNet V3**"
   ]
  },
  {
   "cell_type": "code",
   "execution_count": 7,
   "metadata": {
    "colab": {
     "base_uri": "https://localhost:8080/"
    },
    "execution": {
     "iopub.execute_input": "2025-03-07T15:07:39.694948Z",
     "iopub.status.busy": "2025-03-07T15:07:39.694629Z",
     "iopub.status.idle": "2025-03-07T15:07:40.159743Z",
     "shell.execute_reply": "2025-03-07T15:07:40.158820Z",
     "shell.execute_reply.started": "2025-03-07T15:07:39.694925Z"
    },
    "id": "B14-G-Gkh-JY",
    "outputId": "f3b97080-814e-498f-e8e5-ebac0642ad3c"
   },
   "outputs": [
    {
     "name": "stderr",
     "output_type": "stream",
     "text": [
      "Downloading: \"https://download.pytorch.org/models/mobilenet_v3_large-8738ca79.pth\" to /root/.cache/torch/hub/checkpoints/mobilenet_v3_large-8738ca79.pth\n",
      "100%|██████████| 21.1M/21.1M [00:00<00:00, 85.4MB/s]\n"
     ]
    }
   ],
   "source": [
    "import torch\n",
    "import torch.nn as nn\n",
    "import torchvision\n",
    "from torchvision import models\n",
    "\n",
    "mobilenet_v3 = models.mobilenet_v3_large(weights=models.MobileNet_V3_Large_Weights.IMAGENET1K_V1)\n",
    "\n",
    "food_num_mobile = mobilenet_v3.classifier[3].in_features\n",
    "mobilenet_v3.classifier[3] = nn.Linear(food_num_mobile, 11)  \n",
    "\n",
    "device = torch.device(\"cuda\" if torch.cuda.is_available() else \"cpu\")\n",
    "mobilenet_v3 = mobilenet_v3.to(device)\n"
   ]
  },
  {
   "cell_type": "markdown",
   "metadata": {
    "id": "A_dlnp5mb29P"
   },
   "source": [
    "### b. Fine-tune the model\n",
    "Fine-tune the model. Experiment with different hyperparameter settings (learning rate, batch size, etc.) to optimize performance. Explain your tuning strategy."
   ]
  },
  {
   "cell_type": "markdown",
   "metadata": {},
   "source": [
    "**ShuffleNet**"
   ]
  },
  {
   "cell_type": "code",
   "execution_count": 13,
   "metadata": {
    "colab": {
     "base_uri": "https://localhost:8080/",
     "height": 408
    },
    "execution": {
     "iopub.execute_input": "2025-03-07T15:16:52.756355Z",
     "iopub.status.busy": "2025-03-07T15:16:52.756002Z",
     "iopub.status.idle": "2025-03-07T15:33:03.918411Z",
     "shell.execute_reply": "2025-03-07T15:33:03.917476Z",
     "shell.execute_reply.started": "2025-03-07T15:16:52.756323Z"
    },
    "id": "N-vuGsl3b29Q",
    "outputId": "5cc78a74-0cb8-4bf2-d880-76291dd2067d"
   },
   "outputs": [
    {
     "name": "stdout",
     "output_type": "stream",
     "text": [
      "Epoch 1/10, Training Loss: 0.643575984779685, Validation Loss: 0.5480339040427848\n",
      "Epoch 2/10, Training Loss: 0.5131644405014693, Validation Loss: 0.45035087072324975\n",
      "Epoch 3/10, Training Loss: 0.4208368671075426, Validation Loss: 0.42166456880254877\n",
      "Epoch 4/10, Training Loss: 0.3556286305382028, Validation Loss: 0.4001387778531622\n",
      "Epoch 5/10, Training Loss: 0.30858215899432745, Validation Loss: 0.3836018298321438\n",
      "Epoch 6/10, Training Loss: 0.27670327578837045, Validation Loss: 0.39514666949226346\n",
      "Epoch 7/10, Training Loss: 0.2340304879140121, Validation Loss: 0.37874830495221196\n",
      "Epoch 8/10, Training Loss: 0.19494248260548006, Validation Loss: 0.3709305880108365\n",
      "Epoch 9/10, Training Loss: 0.18461875595200603, Validation Loss: 0.3661576414791246\n",
      "Epoch 10/10, Training Loss: 0.17464023715783283, Validation Loss: 0.3631447854589809\n"
     ]
    }
   ],
   "source": [
    "import torch.optim as optim\n",
    "from torch.utils.data import DataLoader\n",
    "import torch.nn.functional as F\n",
    "from torch import nn\n",
    "\n",
    "optimizer = optim.Adam(shufflenet.parameters(), lr=1e-4, weight_decay=1e-4)\n",
    "\n",
    "scheduler = optim.lr_scheduler.StepLR(optimizer, step_size=7, gamma=0.1)\n",
    "\n",
    "num_epochs = 10\n",
    "\n",
    "for epoch in range(num_epochs):\n",
    "    shufflenet.train()\n",
    "    running_loss = 0.0\n",
    "    for i, lab in train_loader:\n",
    "        i, lab = i.to(device), lab.to(device)\n",
    "\n",
    "        optimizer.zero_grad()\n",
    "\n",
    "        outputs = shufflenet(i)\n",
    "        loss = F.cross_entropy(outputs, lab)\n",
    "\n",
    "        loss.backward()\n",
    "        optimizer.step()\n",
    "\n",
    "        running_loss += loss.item()\n",
    "\n",
    "    scheduler.step()\n",
    "\n",
    "    shufflenet.eval()\n",
    "    val_loss = 0.0\n",
    "    with torch.no_grad():\n",
    "        for i, lab in val_loader:\n",
    "            i, lab = i.to(device), lab.to(device)\n",
    "            outputs = shufflenet(i)\n",
    "            val_loss += F.cross_entropy(outputs, lab).item()\n",
    "\n",
    "    val_loss /= len(val_loader)\n",
    "    print(f\"Epoch {epoch+1}/{num_epochs}, Training Loss: {running_loss/len(train_loader)}, Validation Loss: {val_loss}\")\n"
   ]
  },
  {
   "cell_type": "markdown",
   "metadata": {},
   "source": [
    "**EfficientNet V2**"
   ]
  },
  {
   "cell_type": "code",
   "execution_count": 20,
   "metadata": {
    "execution": {
     "iopub.execute_input": "2025-03-07T15:39:52.075358Z",
     "iopub.status.busy": "2025-03-07T15:39:52.075026Z",
     "iopub.status.idle": "2025-03-07T16:13:38.120847Z",
     "shell.execute_reply": "2025-03-07T16:13:38.119800Z",
     "shell.execute_reply.started": "2025-03-07T15:39:52.075330Z"
    },
    "id": "jHQ6KSrgmJ-2"
   },
   "outputs": [
    {
     "name": "stdout",
     "output_type": "stream",
     "text": [
      "Epoch [1/10], Training Loss: 0.2296, Validation Loss: 0.2404 \n",
      "Epoch [2/10], Training Loss: 0.1199, Validation Loss: 0.2094 \n",
      "Epoch [3/10], Training Loss: 0.0762, Validation Loss: 0.2374 \n",
      "Epoch [4/10], Training Loss: 0.0671, Validation Loss: 0.2447 \n",
      "Epoch [5/10], Training Loss: 0.0535, Validation Loss: 0.2618 \n",
      "Epoch [6/10], Training Loss: 0.0372, Validation Loss: 0.2635 \n",
      "Epoch [7/10], Training Loss: 0.0456, Validation Loss: 9.7429 \n",
      "Epoch [8/10], Training Loss: 0.0357, Validation Loss: 0.6203 \n",
      "Epoch [9/10], Training Loss: 0.0369, Validation Loss: 0.2145 \n",
      "Epoch [10/10], Training Loss: 0.0354, Validation Loss: 2.0196 \n"
     ]
    }
   ],
   "source": [
    "import torch.optim as optim\n",
    "from torch.utils.data import DataLoader\n",
    "from torchvision import datasets, transforms\n",
    "\n",
    "transform = transforms.Compose([\n",
    "    transforms.Resize((224, 224)), \n",
    "    transforms.ToTensor(),\n",
    "    transforms.Normalize(mean=[0.485, 0.456, 0.406], std=[0.229, 0.224, 0.225]) \n",
    "])\n",
    "\n",
    "\n",
    "\n",
    "train_loader = DataLoader(train_dataset, batch_size=32, shuffle=True)\n",
    "val_loader = DataLoader(val_dataset, batch_size=32, shuffle=False)\n",
    "\n",
    "criterion = nn.CrossEntropyLoss()  \n",
    "optimizer = optim.Adam(efficientnet_v2.parameters(), lr=0.0001)  \n",
    "\n",
    "\n",
    "num_epochs = 10\n",
    "\n",
    "for epoch in range(num_epochs):\n",
    "    efficientnet_v2.train()\n",
    "    running_train_loss = 0.0\n",
    "    correct_train = 0\n",
    "    total_train = 0\n",
    "    \n",
    "    for i, lab in train_loader:\n",
    "        i, lab = i.to(device), lab.to(device)\n",
    "        \n",
    "        optimizer.zero_grad()\n",
    "        outputs = efficientnet_v2(i)\n",
    "        loss = criterion(outputs, lab)\n",
    "        loss.backward()\n",
    "        optimizer.step()\n",
    "        \n",
    "        running_train_loss += loss.item()\n",
    "        \n",
    "        _, predicted = torch.max(outputs, 1)\n",
    "        total_train += lab.size(0)\n",
    "        correct_train += (predicted == lab).sum().item()\n",
    "    \n",
    "    avg_train_loss = running_train_loss / len(train_loader)\n",
    "    \n",
    "    efficientnet_v2.eval()\n",
    "    running_val_loss = 0.0\n",
    "    correct_val = 0\n",
    "    total_val = 0\n",
    "    \n",
    "    with torch.no_grad():\n",
    "        for i, lab in val_loader:\n",
    "            i, lab = i.to(device), lab.to(device)\n",
    "            \n",
    "            outputs = efficientnet_v2(i)\n",
    "            loss = criterion(outputs, lab)\n",
    "            running_val_loss += loss.item()\n",
    "            \n",
    "            _, predicted = torch.max(outputs, 1)\n",
    "            total_val += lab.size(0)\n",
    "            correct_val += (predicted == lab).sum().item()\n",
    "    \n",
    "    avg_val_loss = running_val_loss / len(val_loader)\n",
    "    \n",
    "    print(f\"Epoch [{epoch+1}/{num_epochs}], Training Loss: {avg_train_loss:.4f}, Validation Loss: {avg_val_loss:.4f} \")\n",
    "         \n",
    "    \n"
   ]
  },
  {
   "cell_type": "markdown",
   "metadata": {},
   "source": [
    "**MobileNet V3**"
   ]
  },
  {
   "cell_type": "code",
   "execution_count": 21,
   "metadata": {
    "execution": {
     "iopub.execute_input": "2025-03-07T16:15:12.438523Z",
     "iopub.status.busy": "2025-03-07T16:15:12.438206Z",
     "iopub.status.idle": "2025-03-07T16:33:17.955494Z",
     "shell.execute_reply": "2025-03-07T16:33:17.954571Z",
     "shell.execute_reply.started": "2025-03-07T16:15:12.438497Z"
    },
    "id": "_amwre-qmd8B"
   },
   "outputs": [
    {
     "name": "stdout",
     "output_type": "stream",
     "text": [
      "Epoch 1/10, Training Loss: 0.8798, Validation Loss: 0.4516\n",
      "Epoch 2/10, Training Loss: 0.3443, Validation Loss: 0.3555\n",
      "Epoch 3/10, Training Loss: 0.2271, Validation Loss: 0.3496\n",
      "Epoch 4/10, Training Loss: 0.1564, Validation Loss: 0.3903\n",
      "Epoch 5/10, Training Loss: 0.1073, Validation Loss: 0.3477\n",
      "Epoch 6/10, Training Loss: 0.0879, Validation Loss: 0.3612\n",
      "Epoch 7/10, Training Loss: 0.0662, Validation Loss: 0.3659\n",
      "Epoch 8/10, Training Loss: 0.0370, Validation Loss: 0.3276\n",
      "Epoch 9/10, Training Loss: 0.0318, Validation Loss: 0.3221\n",
      "Epoch 10/10, Training Loss: 0.0267, Validation Loss: 0.3264\n"
     ]
    }
   ],
   "source": [
    "import torch.optim as optim\n",
    "import torch.nn.functional as F\n",
    "from torch.utils.data import DataLoader\n",
    "\n",
    "optimizer = optim.Adam(mobilenet_v3.parameters(), lr=1e-4, weight_decay=1e-4)\n",
    "scheduler = optim.lr_scheduler.StepLR(optimizer, step_size=7, gamma=0.1)\n",
    "\n",
    "num_epochs = 10\n",
    "\n",
    "mobilenet_v3 = mobilenet_v3.to(device)  \n",
    "\n",
    "for epoch in range(num_epochs):\n",
    "    mobilenet_v3.train()\n",
    "    running_loss = 0.0\n",
    "    for i, lab in train_loader:\n",
    "        i, lab = i.to(device), lab.to(device)\n",
    "\n",
    "        optimizer.zero_grad()\n",
    "\n",
    "        outputs = mobilenet_v3(i)\n",
    "        loss = F.cross_entropy(outputs, lab)\n",
    "\n",
    "        loss.backward()\n",
    "        optimizer.step()\n",
    "\n",
    "        running_loss += loss.item()\n",
    "\n",
    "    scheduler.step()\n",
    "\n",
    "    mobilenet_v3.eval()\n",
    "    val_loss = 0.0\n",
    "    with torch.no_grad():\n",
    "        for i, lab in val_loader:\n",
    "            i, lab = i.to(device), lab.to(device)\n",
    "            outputs = mobilenet_v3(i)\n",
    "            val_loss += F.cross_entropy(outputs, lab).item()\n",
    "\n",
    "    val_loss /= len(val_loader)\n",
    "    print(f\"Epoch {epoch+1}/{num_epochs}, Training Loss: {(running_loss/len(train_loader)):.4f}, Validation Loss: {val_loss:.4f}\")\n"
   ]
  },
  {
   "cell_type": "markdown",
   "metadata": {
    "id": "B4UyN2Ltb29R"
   },
   "source": [
    "**Fine Tuning Strategy**\n",
    "\n",
    "1. Freeze Early Layers: First freeze the earlier layers of the pre-trained model; these layers have learned low-level features such as edges and textures, which will generally be valuable for any dataset. The only fine-tuning will therefore occur at later layers.\n",
    "\n",
    "\n",
    "2. Unfreeze Layers Gradually: After a few epochs on the final training layers, unfreeze the early layers to enable further refinement of the model to the Food-11-specific features\n",
    "\n",
    "3. Learning Rate: Fine-tuning should be done under lower learning rates, since higher learning rates might burn up the relevant learned features that the pre-trained model has.\n",
    "\n",
    "4. Optimizer: Adam or SGD can act as the optimizer. Adam is often a good choice for transfer learning, as it can adapt the learning rate based on the gradients.\n",
    "\n",
    "5. Batch Size: Test different batch sizes. A common size batch could be 32 or 64, this can be adjusted according to Maximum GPU memory available and performance, as usually smaller batch sizes create much noisier gradients, while larger sizes may improve stability.\n",
    "\n",
    "6. Learning Rate Scheduler: Learning rate scheduler such as StepLR or ReduceLROnPlateau would dynamically adjust the learning rate during the training."
   ]
  },
  {
   "cell_type": "markdown",
   "metadata": {
    "id": "IrJr5d--b29R"
   },
   "source": [
    "### c. Evaluate the performance of each fine-tuned model\n",
    "Evaluate the performance of each fine-tuned model on the Food-11 dataset."
   ]
  },
  {
   "cell_type": "markdown",
   "metadata": {},
   "source": [
    "**ShuffleNet**"
   ]
  },
  {
   "cell_type": "code",
   "execution_count": 22,
   "metadata": {
    "execution": {
     "iopub.execute_input": "2025-03-07T16:41:18.635394Z",
     "iopub.status.busy": "2025-03-07T16:41:18.635045Z",
     "iopub.status.idle": "2025-03-07T16:45:30.972959Z",
     "shell.execute_reply": "2025-03-07T16:45:30.972016Z",
     "shell.execute_reply.started": "2025-03-07T16:41:18.635361Z"
    },
    "id": "78Ck8Ab8b29X"
   },
   "outputs": [
    {
     "name": "stdout",
     "output_type": "stream",
     "text": [
      "Epoch 1/10, Test Loss: 0.3017, Test Accuracy: 89.84%\n",
      "Epoch 2/10, Test Loss: 0.3017, Test Accuracy: 89.84%\n",
      "Epoch 3/10, Test Loss: 0.3017, Test Accuracy: 89.84%\n",
      "Epoch 4/10, Test Loss: 0.3017, Test Accuracy: 89.84%\n",
      "Epoch 5/10, Test Loss: 0.3017, Test Accuracy: 89.84%\n",
      "Epoch 6/10, Test Loss: 0.3017, Test Accuracy: 89.84%\n",
      "Epoch 7/10, Test Loss: 0.3017, Test Accuracy: 89.84%\n",
      "Epoch 8/10, Test Loss: 0.3017, Test Accuracy: 89.84%\n",
      "Epoch 9/10, Test Loss: 0.3017, Test Accuracy: 89.84%\n",
      "Epoch 10/10, Test Loss: 0.3017, Test Accuracy: 89.84%\n"
     ]
    }
   ],
   "source": [
    "import torch\n",
    "import torch.nn.functional as F\n",
    "\n",
    "shufflenet.eval()\n",
    "\n",
    "num_epochs = 10  \n",
    "test_results = []\n",
    "\n",
    "for epoch in range(num_epochs):\n",
    "    test_loss = 0.0\n",
    "    correct = 0\n",
    "    total = 0\n",
    "\n",
    "    with torch.no_grad(): \n",
    "        for i, lab in test_loader:\n",
    "            i, lab = i.to(device), lab.to(device)\n",
    "\n",
    "            outputs = shufflenet(i)\n",
    "\n",
    "            loss = F.cross_entropy(outputs, lab)\n",
    "            test_loss += loss.item()\n",
    "\n",
    "            _, predicted = torch.max(outputs, 1)  \n",
    "            total += lab.size(0)\n",
    "            correct += (predicted == lab).sum().item()\n",
    "\n",
    "    avg_test_loss = test_loss / len(test_loader)\n",
    "    test_acc = 100 * correct / total\n",
    "\n",
    "    print(f\"Epoch {epoch+1}/{num_epochs}, Test Loss: {avg_test_loss:.4f}, Test Accuracy: {test_acc:.2f}%\")\n",
    "\n",
    "    test_results.append((epoch + 1, avg_test_loss, test_acc))\n"
   ]
  },
  {
   "cell_type": "markdown",
   "metadata": {},
   "source": [
    "**EfficientNet V2**"
   ]
  },
  {
   "cell_type": "code",
   "execution_count": 23,
   "metadata": {
    "execution": {
     "iopub.execute_input": "2025-03-07T16:48:55.331752Z",
     "iopub.status.busy": "2025-03-07T16:48:55.331433Z",
     "iopub.status.idle": "2025-03-07T16:53:58.266583Z",
     "shell.execute_reply": "2025-03-07T16:53:58.265574Z",
     "shell.execute_reply.started": "2025-03-07T16:48:55.331725Z"
    }
   },
   "outputs": [
    {
     "name": "stdout",
     "output_type": "stream",
     "text": [
      "Epoch 1/10, Test Loss: 1.0026, Test Accuracy: 95.10%\n",
      "Epoch 2/10, Test Loss: 1.0026, Test Accuracy: 95.10%\n",
      "Epoch 3/10, Test Loss: 1.0026, Test Accuracy: 95.10%\n",
      "Epoch 4/10, Test Loss: 1.0026, Test Accuracy: 95.10%\n",
      "Epoch 5/10, Test Loss: 1.0026, Test Accuracy: 95.10%\n",
      "Epoch 6/10, Test Loss: 1.0026, Test Accuracy: 95.10%\n",
      "Epoch 7/10, Test Loss: 1.0026, Test Accuracy: 95.10%\n",
      "Epoch 8/10, Test Loss: 1.0026, Test Accuracy: 95.10%\n",
      "Epoch 9/10, Test Loss: 1.0026, Test Accuracy: 95.10%\n",
      "Epoch 10/10, Test Loss: 1.0026, Test Accuracy: 95.10%\n"
     ]
    }
   ],
   "source": [
    "import torch\n",
    "import torch.nn.functional as F\n",
    "\n",
    "efficientnet_v2.eval()\n",
    "\n",
    "num_epochs = 10  \n",
    "test_results = []\n",
    "\n",
    "for epoch in range(num_epochs):\n",
    "    test_loss = 0.0\n",
    "    acc = 0\n",
    "    total = 0\n",
    "\n",
    "    with torch.no_grad():  \n",
    "        for i, lab in test_loader:\n",
    "            i, lab = i.to(device), lab.to(device)\n",
    "\n",
    "            outputs = efficientnet_v2(i)  \n",
    "\n",
    "            loss = F.cross_entropy(outputs, lab)\n",
    "            test_loss += loss.item()\n",
    "\n",
    "            _, predicted = torch.max(outputs, 1)  \n",
    "            total += lab.size(0)\n",
    "            acc += (predicted == lab).sum().item()\n",
    "\n",
    "    avg_test_loss = test_loss / len(test_loader)\n",
    "    test_acc = 100 * acc / total\n",
    "\n",
    "    print(f\"Epoch {epoch+1}/{num_epochs}, Test Loss: {avg_test_loss:.4f}, Test Accuracy: {test_acc:.2f}%\")\n",
    "\n",
    "    test_results.append((epoch + 1, avg_test_loss, test_acc))\n"
   ]
  },
  {
   "cell_type": "markdown",
   "metadata": {},
   "source": [
    "**MobileNet V3**"
   ]
  },
  {
   "cell_type": "code",
   "execution_count": 24,
   "metadata": {
    "execution": {
     "iopub.execute_input": "2025-03-07T16:53:58.268004Z",
     "iopub.status.busy": "2025-03-07T16:53:58.267744Z",
     "iopub.status.idle": "2025-03-07T16:57:56.923213Z",
     "shell.execute_reply": "2025-03-07T16:57:56.922393Z",
     "shell.execute_reply.started": "2025-03-07T16:53:58.267971Z"
    }
   },
   "outputs": [
    {
     "name": "stdout",
     "output_type": "stream",
     "text": [
      "Epoch 1/10, Test Loss: 0.2717, Test Accuracy: 92.35%\n",
      "Epoch 2/10, Test Loss: 0.2717, Test Accuracy: 92.35%\n",
      "Epoch 3/10, Test Loss: 0.2717, Test Accuracy: 92.35%\n",
      "Epoch 4/10, Test Loss: 0.2717, Test Accuracy: 92.35%\n",
      "Epoch 5/10, Test Loss: 0.2717, Test Accuracy: 92.35%\n",
      "Epoch 6/10, Test Loss: 0.2717, Test Accuracy: 92.35%\n",
      "Epoch 7/10, Test Loss: 0.2717, Test Accuracy: 92.35%\n",
      "Epoch 8/10, Test Loss: 0.2717, Test Accuracy: 92.35%\n",
      "Epoch 9/10, Test Loss: 0.2717, Test Accuracy: 92.35%\n",
      "Epoch 10/10, Test Loss: 0.2717, Test Accuracy: 92.35%\n"
     ]
    }
   ],
   "source": [
    "import torch\n",
    "import torch.nn.functional as F\n",
    "\n",
    "mobilenet_v3.eval()\n",
    "\n",
    "num_epochs = 10  \n",
    "test_results = []\n",
    "\n",
    "for epoch in range(num_epochs):\n",
    "    test_loss = 0.0\n",
    "    correct = 0\n",
    "    total = 0\n",
    "\n",
    "    with torch.no_grad():  \n",
    "        for i, lab in test_loader:\n",
    "            i, lab = i.to(device), lab.to(device)\n",
    "\n",
    "            outputs = mobilenet_v3(i)\n",
    "\n",
    "            loss = F.cross_entropy(outputs, lab)\n",
    "            test_loss += loss.item()\n",
    "\n",
    "            _, predicted = torch.max(outputs, 1)  \n",
    "            total += lab.size(0)\n",
    "            correct += (predicted == lab).sum().item()\n",
    "\n",
    "    avg_test_loss = test_loss / len(test_loader)\n",
    "    test_accuracy = 100 * correct / total\n",
    "\n",
    "    print(f\"Epoch {epoch+1}/{num_epochs}, Test Loss: {avg_test_loss:.4f}, Test Accuracy: {test_accuracy:.2f}%\")\n",
    "\n",
    "    test_results.append((epoch + 1, avg_test_loss, test_accuracy))\n"
   ]
  },
  {
   "cell_type": "markdown",
   "metadata": {
    "id": "RZOo9MNPb29Z"
   },
   "source": [
    "### d. Compare the results obtained with the different pre-trained models\n",
    "Discuss which model performed best and analyze the reasons for the observed differences in performance."
   ]
  },
  {
   "cell_type": "markdown",
   "metadata": {},
   "source": [
    "**Resulting summary table of model performances**\n",
    "\n",
    "\n",
    "| Model           | Best Validation Loss | Test Loss | Test Accuracy (%) | Final Training Loss |\n",
    "|---------------|--------------------|-----------|----------------|------------------|\n",
    "| ShuffleNet V2  | 0.3631             | 0.3017    | 89.84          | 0.1746           |\n",
    "| EfficientNet V2 | 0.2145             | 1.0026    | 95.10          | 0.0354           |\n",
    "| MobileNet V3   | 0.3221             | 0.2717    | 92.35          | 0.0267           |\n"
   ]
  },
  {
   "cell_type": "markdown",
   "metadata": {},
   "source": [
    "**Best Performing Model: EfficientNetV2 with 95.10% accuracy**\n",
    "\n",
    "**Analysis:** \n",
    "\n",
    "Overall, EfficientNetV2 showed best results as it had the highest accuracy at 95.10% and validated performance with a loss of 0.2145, thus making it best model for Food-11 classification.\n",
    "\n",
    "MobileNetV3 also had good values in accuracy (92.35%) and lowest test loss (0.2717), making it economical when deployed.\n",
    "\n",
    "Although ShuffleNet V2 gives high efficiency, it has small accuracy at only 89.84% and high test loss making it the least effective model.\n"
   ]
  },
  {
   "cell_type": "markdown",
   "metadata": {},
   "source": [
    "**Reasons for model performance**\n",
    "\n",
    "**EfficientNet V2**\n",
    "1. The compound scaling improves the feature extraction by optimizing the network in the depth, width, and resolution of the representation.\n",
    "This helps the model to distinguish minor differences in food images thus improving the classification performance.\n",
    "2. Dropout, Stochastic Depth, and Squeeze-and-Excitation layers prevent the model from overfitting and maintain the high accuracy of validation and test sets.\n",
    "\n",
    "3. EfficientNetV2-trained large dataset (ImageNet1K) thereby make more possible transfer-learning and hence better for adaptation to the Food-11 dataset.\n",
    "\n",
    "**MobileNetV3**\n",
    "1. The given configuration utilizes Depth wise Separable Convolutions to produce a reduced computation. Furthermore, it is indeed easier for training and inference for real-time food classification apps.\n",
    "2. Highly strong generalization with lowest test loss implies that lesser resources are used for computation; thus, it performs well for new as well as unseen test data.\n",
    "\n",
    "**ShuffleNetV2** \n",
    "1. It is a lightweight model but did not manage to perform well in comparison with the depth architectures. It might have lost the important details in food images.\n",
    "2. Higher test loss denotes comparatively weak generalization against MobileNetV3 and EfficientNetV2.\n"
   ]
  },
  {
   "cell_type": "markdown",
   "metadata": {
    "id": "OxMUdjYrb29a"
   },
   "source": [
    "## Step 3: References\n",
    "Include details on all the resources used to complete this part."
   ]
  },
  {
   "cell_type": "markdown",
   "metadata": {
    "id": "ewnubHozb29h"
   },
   "source": [
    "1. https://pytorch.org/hub/pytorch_vision_shufflenet_v2/\n",
    "2. https://medium.com/aimonks/shufflenet-revolutionizing-mobile-deep-learning-e15237239f47\n",
    "3. https://pytorch.org/vision/main/models/efficientnetv2.html\n",
    "4. https://medium.com/towards-data-science/efficientnetv2-faster-smaller-and-higher-accuracy-than-vision-transformers-98e23587bf04\n",
    "5. https://medium.com/@RobuRishabh/understanding-and-implementing-mobilenetv3-422bd0bdfb5a\n",
    "6. https://pytorch.org/vision/main/models/mobilenetv3.html"
   ]
  }
 ],
 "metadata": {
  "colab": {
   "provenance": []
  },
  "kaggle": {
   "accelerator": "nvidiaTeslaT4",
   "dataSources": [
    {
     "datasetId": 432700,
     "sourceId": 821742,
     "sourceType": "datasetVersion"
    }
   ],
   "dockerImageVersionId": 30919,
   "isGpuEnabled": true,
   "isInternetEnabled": true,
   "language": "python",
   "sourceType": "notebook"
  },
  "kernelspec": {
   "display_name": "Python 3 (ipykernel)",
   "language": "python",
   "name": "python3"
  },
  "language_info": {
   "codemirror_mode": {
    "name": "ipython",
    "version": 3
   },
   "file_extension": ".py",
   "mimetype": "text/x-python",
   "name": "python",
   "nbconvert_exporter": "python",
   "pygments_lexer": "ipython3",
   "version": "3.13.1"
  }
 },
 "nbformat": 4,
 "nbformat_minor": 4
}
